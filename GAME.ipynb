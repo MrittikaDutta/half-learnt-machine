{
 "cells": [
  {
   "cell_type": "code",
   "execution_count": 1,
   "id": "d867bba0",
   "metadata": {},
   "outputs": [
    {
     "name": "stdout",
     "output_type": "stream",
     "text": [
      "pygame 2.5.2 (SDL 2.28.3, Python 3.11.5)\n",
      "Hello from the pygame community. https://www.pygame.org/contribute.html\n"
     ]
    },
    {
     "ename": "FileNotFoundError",
     "evalue": "No file 'bird.png' found in working directory '/Users/mrittikadutta'.",
     "output_type": "error",
     "traceback": [
      "\u001b[0;31m---------------------------------------------------------------------------\u001b[0m",
      "\u001b[0;31mFileNotFoundError\u001b[0m                         Traceback (most recent call last)",
      "Cell \u001b[0;32mIn[1], line 24\u001b[0m\n\u001b[1;32m     21\u001b[0m pygame\u001b[38;5;241m.\u001b[39mdisplay\u001b[38;5;241m.\u001b[39mset_caption(\u001b[38;5;124m\"\u001b[39m\u001b[38;5;124mFlappy Bird\u001b[39m\u001b[38;5;124m\"\u001b[39m)\n\u001b[1;32m     23\u001b[0m \u001b[38;5;66;03m# Load images\u001b[39;00m\n\u001b[0;32m---> 24\u001b[0m bird_image \u001b[38;5;241m=\u001b[39m pygame\u001b[38;5;241m.\u001b[39mimage\u001b[38;5;241m.\u001b[39mload(\u001b[38;5;124m\"\u001b[39m\u001b[38;5;124mbird.png\u001b[39m\u001b[38;5;124m\"\u001b[39m)\n\u001b[1;32m     25\u001b[0m pipe_image \u001b[38;5;241m=\u001b[39m pygame\u001b[38;5;241m.\u001b[39mimage\u001b[38;5;241m.\u001b[39mload(\u001b[38;5;124m\"\u001b[39m\u001b[38;5;124mpipe.png\u001b[39m\u001b[38;5;124m\"\u001b[39m)\n\u001b[1;32m     26\u001b[0m background_image \u001b[38;5;241m=\u001b[39m pygame\u001b[38;5;241m.\u001b[39mimage\u001b[38;5;241m.\u001b[39mload(\u001b[38;5;124m\"\u001b[39m\u001b[38;5;124mbackground.png\u001b[39m\u001b[38;5;124m\"\u001b[39m)\n",
      "\u001b[0;31mFileNotFoundError\u001b[0m: No file 'bird.png' found in working directory '/Users/mrittikadutta'."
     ]
    }
   ],
   "source": [
    "import pygame\n",
    "import sys\n",
    "import random\n",
    "\n",
    "# Initialize Pygame\n",
    "pygame.init()\n",
    "\n",
    "# Constants\n",
    "WIDTH, HEIGHT = 400, 600\n",
    "FPS = 60\n",
    "GRAVITY = 1\n",
    "BIRD_JUMP = -15\n",
    "PIPE_SPEED = 5\n",
    "\n",
    "# Colors\n",
    "WHITE = (255, 255, 255)\n",
    "BLACK = (0, 0, 0)\n",
    "\n",
    "# Create the game window\n",
    "screen = pygame.display.set_mode((WIDTH, HEIGHT))\n",
    "pygame.display.set_caption(\"Flappy Bird\")\n",
    "\n",
    "# Load images\n",
    "bird_image = pygame.image.load(\"bird.png\")\n",
    "pipe_image = pygame.image.load(\"pipe.png\")\n",
    "background_image = pygame.image.load(\"background.png\")\n",
    "ground_image = pygame.image.load(\"ground.png\")\n",
    "\n",
    "# Resize images\n",
    "bird_image = pygame.transform.scale(bird_image, (50, 50))\n",
    "pipe_image = pygame.transform.scale(pipe_image, (70, 400))\n",
    "ground_image = pygame.transform.scale(ground_image, (WIDTH, 100))\n",
    "\n",
    "# Bird class\n",
    "class Bird(pygame.sprite.Sprite):\n",
    "    def __init__(self):\n",
    "        super().__init__()\n",
    "        self.image = bird_image\n",
    "        self.rect = self.image.get_rect()\n",
    "        self.rect.center = (100, HEIGHT // 2)\n",
    "        self.velocity = 0\n",
    "\n",
    "    def update(self):\n",
    "        self.velocity += GRAV"
   ]
  },
  {
   "cell_type": "code",
   "execution_count": null,
   "id": "db07daf1",
   "metadata": {},
   "outputs": [],
   "source": []
  }
 ],
 "metadata": {
  "kernelspec": {
   "display_name": "Python 3 (ipykernel)",
   "language": "python",
   "name": "python3"
  },
  "language_info": {
   "codemirror_mode": {
    "name": "ipython",
    "version": 3
   },
   "file_extension": ".py",
   "mimetype": "text/x-python",
   "name": "python",
   "nbconvert_exporter": "python",
   "pygments_lexer": "ipython3",
   "version": "3.11.5"
  }
 },
 "nbformat": 4,
 "nbformat_minor": 5
}
