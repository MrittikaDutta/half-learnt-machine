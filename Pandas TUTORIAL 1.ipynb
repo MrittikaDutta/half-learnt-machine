{
 "cells": [
  {
   "cell_type": "code",
   "execution_count": 1,
   "id": "3801a46d",
   "metadata": {},
   "outputs": [],
   "source": [
    "import numpy as np\n"
   ]
  },
  {
   "cell_type": "code",
   "execution_count": 2,
   "id": "37b572fe",
   "metadata": {},
   "outputs": [],
   "source": [
    "import pandas as pd"
   ]
  },
  {
   "cell_type": "code",
   "execution_count": 4,
   "id": "6495ebe3",
   "metadata": {},
   "outputs": [],
   "source": [
    "#help(pd.Series)"
   ]
  },
  {
   "cell_type": "code",
   "execution_count": 5,
   "id": "a4a420ba",
   "metadata": {},
   "outputs": [],
   "source": [
    "myi=['usa','canada','mexico']"
   ]
  },
  {
   "cell_type": "code",
   "execution_count": 6,
   "id": "d516c9f6",
   "metadata": {},
   "outputs": [],
   "source": [
    "mydata=[1776,1867,1821]"
   ]
  },
  {
   "cell_type": "code",
   "execution_count": 7,
   "id": "7f3f9d4f",
   "metadata": {},
   "outputs": [],
   "source": [
    "myser=pd.Series(data=mydata)"
   ]
  },
  {
   "cell_type": "code",
   "execution_count": 8,
   "id": "e296b8a1",
   "metadata": {},
   "outputs": [
    {
     "data": {
      "text/plain": [
       "0    1776\n",
       "1    1867\n",
       "2    1821\n",
       "dtype: int64"
      ]
     },
     "execution_count": 8,
     "metadata": {},
     "output_type": "execute_result"
    }
   ],
   "source": [
    "myser"
   ]
  },
  {
   "cell_type": "code",
   "execution_count": 9,
   "id": "17dfc96d",
   "metadata": {},
   "outputs": [],
   "source": [
    "myser=pd.Series(data=mydata,index=myi)"
   ]
  },
  {
   "cell_type": "code",
   "execution_count": 10,
   "id": "ac327a55",
   "metadata": {},
   "outputs": [
    {
     "data": {
      "text/plain": [
       "usa       1776\n",
       "canada    1867\n",
       "mexico    1821\n",
       "dtype: int64"
      ]
     },
     "execution_count": 10,
     "metadata": {},
     "output_type": "execute_result"
    }
   ],
   "source": [
    "myser"
   ]
  },
  {
   "cell_type": "code",
   "execution_count": null,
   "id": "7c17b9eb",
   "metadata": {},
   "outputs": [],
   "source": []
  }
 ],
 "metadata": {
  "kernelspec": {
   "display_name": "Python 3 (ipykernel)",
   "language": "python",
   "name": "python3"
  },
  "language_info": {
   "codemirror_mode": {
    "name": "ipython",
    "version": 3
   },
   "file_extension": ".py",
   "mimetype": "text/x-python",
   "name": "python",
   "nbconvert_exporter": "python",
   "pygments_lexer": "ipython3",
   "version": "3.11.5"
  }
 },
 "nbformat": 4,
 "nbformat_minor": 5
}
